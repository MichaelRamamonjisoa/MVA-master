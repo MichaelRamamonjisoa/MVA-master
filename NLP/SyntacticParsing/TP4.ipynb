{
 "cells": [
  {
   "cell_type": "markdown",
   "metadata": {},
   "source": [
    "# Algorithms for Speech and NLP TD 4"
   ]
  },
  {
   "cell_type": "code",
   "execution_count": 1,
   "metadata": {
    "collapsed": true
   },
   "outputs": [],
   "source": [
    "import numpy as np\n",
    "from nltk import Tree\n",
    "import os\n",
    "import nltk\n",
    "from nltk.corpus import BracketParseCorpusReader"
   ]
  },
  {
   "cell_type": "code",
   "execution_count": 2,
   "metadata": {},
   "outputs": [
    {
     "data": {
      "text/plain": [
       "3099"
      ]
     },
     "execution_count": 2,
     "metadata": {},
     "output_type": "execute_result"
    }
   ],
   "source": [
    "TREEPATH = os.path.join(os.getcwd(),'sequoia-corpus+fct.mrg_strict')\n",
    "\n",
    "with open(TREEPATH,'r') as f:\n",
    "    corpus = f.read()\n",
    "    \n",
    "sentences = corpus.split('( (SENT (')[1:]\n",
    "len(sentences)\n"
   ]
  },
  {
   "cell_type": "markdown",
   "metadata": {},
   "source": [
    "### Get all possible word types in the corpus"
   ]
  },
  {
   "cell_type": "code",
   "execution_count": 3,
   "metadata": {},
   "outputs": [
    {
     "name": "stdout",
     "output_type": "stream",
     "text": [
      "['PRO', 'Srel', 'PROREL', 'VPinf', 'ADJWH', 'AP', 'AdP', 'CC', 'ET', 'Ssub', 'ADV', 'PROWH', 'I', 'VINF', 'ADVWH', 'VIMP', 'DETWH', 'VPpart', 'PREF', 'DET', 'Sint', 'VS', 'P+PRO', 'NPP', 'VN', 'CLO', 'PONCT', 'PP', 'VPP', 'ADJ', 'CS', 'COORD', 'V', 'NP', 'P+D', 'P', 'CLS', 'SENT', 'CLR', 'NC', 'VPR']\n"
     ]
    }
   ],
   "source": [
    "types = []\n",
    "idx = 0\n",
    "idx = corpus.find('(',idx)\n",
    "while idx!=-1:\n",
    "    idx_end = corpus.find(' ',idx)\n",
    "    t = corpus[idx+1:idx_end]\n",
    "#     print(t)\n",
    "    if t not in types:\n",
    "        types.append(t)\n",
    "    \n",
    "    idx = corpus.find('(',idx_end)\n",
    "# print(types)\n",
    "len(types)\n",
    "\n",
    "type_word = set()\n",
    "for t in types:\n",
    "    if len(t)>0:\n",
    "        c = t.find('-')\n",
    "        #     if t.find('-')==-1 and not len(t)==0:\n",
    "        type_word.add(t[:c] if c !=-1 else t)\n",
    "        #     if c!=-1 and not len(t)==0:\n",
    "        #         type_word.add(t[:c])\n",
    "        #     elif c==-1 and not len(t)==0:\n",
    "        #         type_word.add(t)\n",
    "    \n",
    "        \n",
    "type_word = list(type_word)\n",
    "print(type_word)"
   ]
  },
  {
   "cell_type": "code",
   "execution_count": 4,
   "metadata": {},
   "outputs": [
    {
     "data": {
      "text/plain": [
       "41"
      ]
     },
     "execution_count": 4,
     "metadata": {},
     "output_type": "execute_result"
    }
   ],
   "source": [
    "len(type_word)"
   ]
  },
  {
   "cell_type": "markdown",
   "metadata": {},
   "source": [
    "### Remove all tags with a functional tags"
   ]
  },
  {
   "cell_type": "code",
   "execution_count": 9,
   "metadata": {},
   "outputs": [],
   "source": [
    "corpus_out = corpus\n",
    "for t in type_word:\n",
    "#     print('searching: '+t+'-')\n",
    "    idx = corpus_out.find('('+t+'-',0)\n",
    "#     print(corpus_out[idx:idx+len(t)+1])\n",
    "    while idx!=-1:\n",
    "        idx_end = corpus_out.find(' ',idx)\n",
    "#         print(corpus_out[idx:idx_end])\n",
    "        if idx_end-idx > len(t)+1 and corpus_out[idx+1:idx_end] not in type_word:\n",
    "#             print('replacing \"' + corpus_out[idx:idx_end]+ '\" with \"'+t+'\"')\n",
    "            \n",
    "            corpus_out = corpus_out.replace(corpus_out[idx:idx_end],'('+t)\n",
    "\n",
    "        idx = corpus_out.find('('+t+'-',idx_end)\n",
    "    \n",
    "    idx = corpus_out.find(\"(NP::\")\n",
    "    while idx!=-1:\n",
    "        idx_end = corpus_out.find(' ',idx)\n",
    "#         print(corpus_out[idx:idx_end])\n",
    "        if idx_end-idx > len(t)+1 and corpus_out[idx+1:idx_end] not in type_word:\n",
    "#             print('replacing \"' + corpus_out[idx:idx_end]+ '\" with \"'+\"NP\"+'\"')\n",
    "            \n",
    "            corpus_out = corpus_out.replace(corpus_out[idx:idx_end],\"(NP\")\n",
    "\n",
    "        idx = corpus_out.find(\"(NP::\",idx_end)\n",
    "        "
   ]
  },
  {
   "cell_type": "code",
   "execution_count": 10,
   "metadata": {
    "collapsed": true
   },
   "outputs": [],
   "source": [
    "with open('corpus_out.txt','w') as f:\n",
    "    f.write(corpus_out)"
   ]
  },
  {
   "cell_type": "markdown",
   "metadata": {},
   "source": [
    "### Split the corpus into trees"
   ]
  },
  {
   "cell_type": "code",
   "execution_count": 11,
   "metadata": {
    "collapsed": true
   },
   "outputs": [],
   "source": [
    "with open('corpus_out.txt','r') as f:\n",
    "    text = f.readlines()"
   ]
  },
  {
   "cell_type": "markdown",
   "metadata": {},
   "source": [
    "### Create splits"
   ]
  },
  {
   "cell_type": "code",
   "execution_count": 12,
   "metadata": {},
   "outputs": [],
   "source": [
    "prop_train = 0.8\n",
    "prop_test = 0.1\n",
    "prop_val = 0.1\n",
    "\n",
    "import numpy as np\n",
    "\n",
    "# rand_idx = np.random.permutation(len(text))\n",
    "rand_idx = range(len(text))\n",
    "idx_end_train = int(prop_train*len(text))\n",
    "idx_start_test = int((1-prop_test)*len(text))\n",
    "\n",
    "corpus_train = text[:idx_end_train]\n",
    "corpus_dev = text[idx_end_train:idx_start_test]\n",
    "corpus_test = text[idx_start_test:]\n",
    "\n"
   ]
  },
  {
   "cell_type": "code",
   "execution_count": 13,
   "metadata": {},
   "outputs": [
    {
     "name": "stdout",
     "output_type": "stream",
     "text": [
      "2479\n",
      "310\n",
      "310\n"
     ]
    },
    {
     "data": {
      "text/plain": [
       "3099"
      ]
     },
     "execution_count": 13,
     "metadata": {},
     "output_type": "execute_result"
    }
   ],
   "source": [
    "print(len(corpus_train))\n",
    "print(len(corpus_dev))\n",
    "print(len(corpus_test))\n",
    "len(corpus_train+corpus_dev+corpus_test)"
   ]
  },
  {
   "cell_type": "markdown",
   "metadata": {},
   "source": [
    "### Converting the corpus to Chomsky Normal Format"
   ]
  },
  {
   "cell_type": "code",
   "execution_count": 14,
   "metadata": {
    "collapsed": true
   },
   "outputs": [],
   "source": [
    "import re\n",
    "\n",
    "def convert_to_CNF(corpus_text):\n",
    "    corpus_CNF = []\n",
    "    for t in corpus_text:\n",
    "        # set to Chomsky Normal Format\n",
    "        tr = Tree.fromstring(t)\n",
    "        tr.chomsky_normal_form()\n",
    "        tr_rules = tr.productions() \n",
    "#         print(tr_rules)\n",
    "        for i,rule in enumerate(tr_rules):\n",
    "            tr_rules[i] = str(rule).split(' -> ')\n",
    "            for j,part in enumerate(tr_rules[i]):\n",
    "                tr_rules[i][j] = re.sub(r'\\|.*$','',tr_rules[i][j])\n",
    "                \n",
    "        corpus_CNF.append(tr_rules)\n",
    "        \n",
    "    return corpus_CNF\n",
    "    \n",
    "    "
   ]
  },
  {
   "cell_type": "code",
   "execution_count": 15,
   "metadata": {},
   "outputs": [
    {
     "name": "stdout",
     "output_type": "stream",
     "text": [
      "( (SENT (NP (DET Le) (NC Procès) (PP (P en) (NP (ADJ première) (NC instance))))))\n",
      "\n",
      "[ -> SENT, SENT -> NP, NP -> DET NP|<NC-PP>, DET -> 'Le', NP|<NC-PP> -> NC PP, NC -> 'Procès', PP -> P NP, P -> 'en', NP -> ADJ NC, ADJ -> 'première', NC -> 'instance']\n"
     ]
    }
   ],
   "source": [
    "t = corpus_test[4]\n",
    "print(t)\n",
    "tr = Tree.fromstring(t)\n",
    "tr.chomsky_normal_form()\n",
    "tr_rules = tr.productions()\n",
    "print(tr_rules)"
   ]
  },
  {
   "cell_type": "code",
   "execution_count": 16,
   "metadata": {
    "collapsed": true
   },
   "outputs": [],
   "source": [
    "corpus_train_rules = convert_to_CNF(corpus_train)\n",
    "corpus_dev_rules = convert_to_CNF(corpus_dev)\n",
    "corpus_test_rules = convert_to_CNF(corpus_test)"
   ]
  },
  {
   "cell_type": "markdown",
   "metadata": {},
   "source": [
    "### Extracting PCFGs"
   ]
  },
  {
   "cell_type": "markdown",
   "metadata": {},
   "source": [
    "#### Version which handles unary rules (A -> B) with A and B non terminal"
   ]
  },
  {
   "cell_type": "code",
   "execution_count": 17,
   "metadata": {
    "collapsed": true
   },
   "outputs": [],
   "source": [
    "def extractPCFGu(corpus_train, corpus_dev, corpus_test):\n",
    "    # We add the terminal nodes of the test set to the grammar\n",
    "    \n",
    "    grammar_parents = []\n",
    "    grammar_daughters = {}\n",
    "    probas = {}\n",
    "    for SENT in corpus_train:\n",
    "        for rule in SENT:\n",
    "            if rule[0] not in grammar_parents:\n",
    "                grammar_parents.append(rule[0])\n",
    "                grammar_daughters[rule[0]] = []\n",
    "                grammar_daughters[rule[0]].append(rule[1])\n",
    "                probas[rule[0]] = {rule[1] : 1.0}   \n",
    "            else:\n",
    "                if rule[1] not in grammar_daughters[rule[0]]:\n",
    "                    grammar_daughters[rule[0]].append(rule[1])\n",
    "                    probas[rule[0]][rule[1]] = 1.0\n",
    "                else:\n",
    "                    probas[rule[0]][rule[1]] += 1.0\n",
    "            \n",
    "\n",
    "    for SENT in corpus_test:\n",
    "        for rule in SENT:\n",
    "            if rule[0] in grammar_parents:\n",
    "                if rule[1].startswith(\"'\") or rule[1].startswith('\"'):\n",
    "                    if rule[1] not in grammar_daughters[rule[0]]:\n",
    "                        grammar_daughters[rule[0]].append(rule[1])\n",
    "                        probas[rule[0]][rule[1]] = 1.0\n",
    "                    else:\n",
    "                        probas[rule[0]][rule[1]] += 1.0\n",
    "                    \n",
    "    for SENT in corpus_dev:\n",
    "        for rule in SENT:\n",
    "            if rule[0] in grammar_parents:\n",
    "                if rule[1].startswith(\"'\") or rule[1].startswith('\"'):\n",
    "                    if rule[1] not in grammar_daughters[rule[0]]:\n",
    "                        grammar_daughters[rule[0]].append(rule[1])\n",
    "                        probas[rule[0]][rule[1]] = 1.0\n",
    "                    else:\n",
    "                        probas[rule[0]][rule[1]] += 1.0  \n",
    "                        \n",
    "    for i,parent in enumerate(probas):\n",
    "        nb_parent_daughters = sum([probas[parent][r] for r in probas[parent]])\n",
    "        \n",
    "        for daughter in probas[parent]:\n",
    "            \n",
    "            probas[parent][daughter] /= nb_parent_daughters                    \n",
    "            \n",
    "    #print(grammar_parents[1],probas[grammar_parents[1]])\n",
    "    return grammar_parents,grammar_daughters,probas"
   ]
  },
  {
   "cell_type": "markdown",
   "metadata": {},
   "source": [
    "#### Version which does not handle unaries"
   ]
  },
  {
   "cell_type": "code",
   "execution_count": 18,
   "metadata": {
    "collapsed": true,
    "scrolled": true
   },
   "outputs": [],
   "source": [
    "def extractPCFG(corpus_train, corpus_dev, corpus_test):\n",
    "    # We add the terminal nodes of the test set to the grammar\n",
    "    \n",
    "    grammar_parents = []\n",
    "    grammar_daughters = []\n",
    "    probas = []\n",
    "    for SENT in corpus_train:\n",
    "        for rule in SENT:\n",
    "            if rule[0] not in grammar_parents:\n",
    "                grammar_parents.append(rule[0])\n",
    "                grammar_daughters.append([])\n",
    "                grammar_daughters[-1].append(rule[1])\n",
    "                probas.append([])\n",
    "                probas[-1].append([])\n",
    "                probas[-1][-1] = 1.0\n",
    "                \n",
    "            else:\n",
    "                idx_parent = grammar_parents.index(rule[0])\n",
    "                if rule[1] not in grammar_daughters[idx_parent]:\n",
    "                    grammar_daughters[idx_parent].append(rule[1])\n",
    "                    probas[idx_parent].append([])\n",
    "                    probas[idx_parent][-1] = 1.0\n",
    "                else:\n",
    "                    probas[idx_parent][grammar_daughters[idx_parent].index(rule[1])] += 1.0\n",
    "\n",
    "    for SENT in corpus_test:\n",
    "        for rule in SENT:\n",
    "            if rule[0] in grammar_parents:\n",
    "                idx_parent = grammar_parents.index(rule[0])\n",
    "                if rule[1].startswith(\"'\") or rule[1].startswith('\"'):\n",
    "#                     print(idx_parent,rule[1])\n",
    "#                     print(rule[1] in grammar_daughters[idx_parent])\n",
    "                    if rule[1] not in grammar_daughters[idx_parent]:\n",
    "                        grammar_daughters[idx_parent].append(rule[1])\n",
    "#                         print(rule[1] in grammar_daughters[idx_parent])\n",
    "                        probas[idx_parent].append([])\n",
    "                        probas[idx_parent][-1] = 1.0\n",
    "                    else:\n",
    "                        probas[idx_parent][grammar_daughters[idx_parent].index(rule[1])] += 1.0\n",
    "                    \n",
    "    for SENT in corpus_dev:\n",
    "        for rule in SENT:\n",
    "#             print(rule)\n",
    "            if rule[0] in grammar_parents:\n",
    "                idx_parent = grammar_parents.index(rule[0])\n",
    "#                 print(rule)\n",
    "                if rule[1].startswith(\"'\") or rule[1].startswith('\"'):\n",
    "#                     print(idx_parent,rule[1])\n",
    "#                     print(rule[1] in grammar_daughters[idx_parent])\n",
    "                    if rule[1] not in grammar_daughters[idx_parent]:\n",
    "                        grammar_daughters[idx_parent].append(rule[1])\n",
    "#                         print(rule[1] in grammar_daughters[idx_parent])\n",
    "                        probas[idx_parent].append([])\n",
    "                        probas[idx_parent][-1] = 1.0\n",
    "                    else:\n",
    "                        probas[idx_parent][grammar_daughters[idx_parent].index(rule[1])] += 1.0             \n",
    "            \n",
    "    \n",
    "    for i,parent_daughters in enumerate(probas):\n",
    "        nb_parent_daughters = sum(parent_daughters)*1.0\n",
    "        for j,daughter in enumerate(parent_daughters):\n",
    "            probas[i][j] /= nb_parent_daughters\n",
    "            \n",
    "    \n",
    "            \n",
    "    \n",
    "    \n",
    "    return grammar_parents,grammar_daughters,probas"
   ]
  },
  {
   "cell_type": "code",
   "execution_count": 19,
   "metadata": {
    "collapsed": true
   },
   "outputs": [],
   "source": [
    "(grammar_parents, grammar_daughters, P) = extractPCFGu(corpus_train_rules,corpus_dev_rules,corpus_test_rules)"
   ]
  },
  {
   "cell_type": "code",
   "execution_count": 20,
   "metadata": {
    "collapsed": true
   },
   "outputs": [],
   "source": [
    "grammar = {'parents':grammar_parents,'daughters':grammar_daughters}"
   ]
  },
  {
   "cell_type": "code",
   "execution_count": 21,
   "metadata": {},
   "outputs": [
    {
     "data": {
      "text/plain": [
       "42"
      ]
     },
     "execution_count": 21,
     "metadata": {},
     "output_type": "execute_result"
    }
   ],
   "source": [
    "len(grammar['daughters'])"
   ]
  },
  {
   "cell_type": "code",
   "execution_count": 22,
   "metadata": {},
   "outputs": [
    {
     "data": {
      "text/plain": [
       "137"
      ]
     },
     "execution_count": 22,
     "metadata": {},
     "output_type": "execute_result"
    }
   ],
   "source": [
    "sum([len(t) for t in grammar['daughters']])"
   ]
  },
  {
   "cell_type": "markdown",
   "metadata": {},
   "source": [
    "## CKY algorithm"
   ]
  },
  {
   "cell_type": "markdown",
   "metadata": {},
   "source": [
    "#### Version which handles unaries"
   ]
  },
  {
   "cell_type": "code",
   "execution_count": 23,
   "metadata": {
    "collapsed": true
   },
   "outputs": [],
   "source": [
    "def P_CKY_u(words,grammar,probas):\n",
    "    table = {}    \n",
    "    back = {}\n",
    "    for A in grammar['parents']:\n",
    "        table[A] = np.zeros((len(words)+1,len(words)+1))\n",
    "        back[A] = np.empty((len(words)+1,len(words)+1),dtype=object)\n",
    "    \n",
    "        for i in np.indices((len(words)+1,len(words)+1)):\n",
    "            back[A][i] = {}\n",
    "\n",
    "    for j in range(len(words)+1)[1:]:\n",
    "        print('word '+str(j))\n",
    "        for a,A in enumerate(grammar['parents']):\n",
    "            daughters_list = grammar['daughters'][A]\n",
    "            if words[j-1] in daughters_list:\n",
    "                table[A][j-1,j] = probas[A][words[j-1]]\n",
    "                \n",
    "            added = True\n",
    "            while added:\n",
    "                added = False\n",
    "                for b,B in enumerate(grammar['parents']):\n",
    "                    if table[B][j-1,j] > 0 and B in daughters_list:\n",
    "                        PROB = probas[A][B]*table[B][j-1,j]\n",
    "                        if PROB > table[A][j-1,j]:\n",
    "                            table[A][j-1,j] = PROB\n",
    "                            back[A][j-1,j] = b\n",
    "                            added = True\n",
    "                            \n",
    "                    \n",
    "        for i in range(j-2,-1,-1):\n",
    "            for k in range(i+1,j):\n",
    "                #------- for all {A|A->BC in grammar} ------\n",
    "                for a, A in enumerate(grammar['parents']):\n",
    "                    for bc, BC in enumerate(grammar['daughters'][A]):\n",
    "                        if len(BC.split(' '))==2: # Check that BC is actually not B \n",
    "                            B = BC.split(' ')[0]\n",
    "                            b = grammar['parents'].index(B)\n",
    "                            C = BC.split(' ')[1]\n",
    "                            c = grammar['parents'].index(C)\n",
    "                            if table[B][i,k]>0 and table[C][k,j]>0: #-- and table[i,k,B]>0 and table[k,j,C]>0---\n",
    "                                #------- for all {A|A->BC in grammar}--------\n",
    "                                PROB = probas[A][BC]*table[B][i,k]*table[C][k,j]\n",
    "                                if table[A][i,j]<PROB:\n",
    "                                    table[A][i,j] = PROB\n",
    "                                    back[A][i,j] = [k,b,c]\n",
    "                                    \n",
    "                    added = True\n",
    "                    daughters_list = grammar['daughters'][A]\n",
    "                    while added:\n",
    "                        added = False\n",
    "                        for b,B in enumerate(grammar['parents']):\n",
    "                            if table[B][i,j] > 0 and B in daughters_list:\n",
    "                                PROB = probas[A][B]*table[B][i,j]\n",
    "                                if PROB > table[A][i,j]:\n",
    "                                    table[A][i,j] = PROB\n",
    "                                    back[A][i,j] = b\n",
    "                                    added = True\n",
    "                        \n",
    "    \n",
    "    return back, table"
   ]
  },
  {
   "cell_type": "code",
   "execution_count": 24,
   "metadata": {
    "collapsed": true
   },
   "outputs": [],
   "source": [
    "def build_tree_u(words,grammar,back,table,start,end,index,S=''):\n",
    "     \n",
    "    indexes = back[grammar['parents'][index]][start,end] \n",
    "#     print(indexes)\n",
    "    if indexes=={}:\n",
    "        return words[start]\n",
    "    else:\n",
    "        if type(indexes) is int:\n",
    "            S += \"(\" +grammar['parents'][indexes]+\" \"+ build_tree_u(words,grammar,back,table,start,end,indexes) +\")\"\n",
    "        else:\n",
    "            [k,b,c] = indexes\n",
    "            S += \"(\" +grammar['parents'][b]+\" \"+ build_tree_u(words,grammar,back,table,start,k,b) +\")\"\n",
    "            S += \"(\" +grammar['parents'][c]+\" \"+ build_tree_u(words,grammar,back,table,k,end,c) +\")\"\n",
    "        return S"
   ]
  },
  {
   "cell_type": "markdown",
   "metadata": {},
   "source": [
    "#### Version which does not"
   ]
  },
  {
   "cell_type": "code",
   "execution_count": 25,
   "metadata": {
    "collapsed": true
   },
   "outputs": [],
   "source": [
    "def P_CKY(words,grammar,probas):\n",
    "    table = np.zeros((len(words)+1,len(words)+1,len(grammar['parents'])))\n",
    "    back = np.zeros((len(words)+1,len(words)+1,len(grammar['parents']),3))\n",
    "    for j in range(len(words)+1)[1:]:\n",
    "        for a,A in enumerate(grammar['parents']):\n",
    "            daughters_list = grammar['daughters'][a]\n",
    "            if words[j-1] in daughters_list:\n",
    "                table[j-1,j,a] = probas[a][daughters_list.index(words[j-1])]\n",
    "        for i in range(j-2,-1,-1):\n",
    "            for k in range(i+1,j):\n",
    "                #------- for all {A|A->BC in grammar} ------\n",
    "                for a, A in enumerate(grammar['parents']):\n",
    "                    for bc, BC in enumerate(grammar['daughters'][a]):\n",
    "                        if len(BC.split(' '))==2: # Check that BC is actually not B \n",
    "                            b = grammar['parents'].index(BC.split(' ')[0])   \n",
    "                            c = grammar['parents'].index(BC.split(' ')[1])\n",
    "                            if table[i,k,b]>0 and table[k,j,c]>0: #-- and table[i,k,B]>0 and table[k,j,C]>0---\n",
    "                                #------- for all {A|A->BC in grammar}--------\n",
    "                                PROB = probas[a][bc]*table[i,k,b]*table[k,j,c]\n",
    "                                if table[i,j,a]<PROB:\n",
    "                                    table[i,j,a] = PROB\n",
    "                                    back[i,j,a] = [k,b,c]\n",
    "    \n",
    "    return back, table"
   ]
  },
  {
   "cell_type": "code",
   "execution_count": 26,
   "metadata": {
    "collapsed": true
   },
   "outputs": [],
   "source": [
    "def build_tree(words,grammar,back,table,start,end,index,S=''):\n",
    "    \n",
    "    indexes = back[start,end,index]\n",
    "#     print(indexes)\n",
    "    if any(indexes==[0,0,0]):\n",
    "        return words[start]\n",
    "    else:\n",
    "        [k,b,c] = indexes.astype('int')\n",
    "        S += \"(\" +grammar['parents'][b]+\" \"+ build_tree(words,grammar,back,table,start,k,b) +\")\"\n",
    "        S += \"(\" +grammar['parents'][c]+\" \"+ build_tree(words,grammar,back,table,k,end,c) +\")\"\n",
    "        return S"
   ]
  },
  {
   "cell_type": "markdown",
   "metadata": {},
   "source": [
    "## Testing the full algorithm on sentences"
   ]
  },
  {
   "cell_type": "code",
   "execution_count": 27,
   "metadata": {
    "collapsed": true
   },
   "outputs": [],
   "source": [
    "def to_words(norm_sentence):\n",
    "    norm_sentence = norm_sentence[7:]\n",
    "    words = []\n",
    "    idx = norm_sentence.find(' (')\n",
    "    while idx!=-1:\n",
    "        idx_end_type = norm_sentence.find(' ',idx+1)\n",
    "        idx_end_word = norm_sentence.find(')',idx_end_type)\n",
    "        word = norm_sentence[idx_end_type+1:idx_end_word]\n",
    "        if word.find(' ')!=-1:\n",
    "            word = word.split(' ')[-1] \n",
    "        if word.find(\"'\")!=-1:\n",
    "            words.append('\"'+word+'\"')\n",
    "        else:\n",
    "            words.append(\"'\"+word+\"'\")\n",
    "        idx = norm_sentence.find(' (',idx_end_word)\n",
    "        \n",
    "    return words\n",
    "        "
   ]
  },
  {
   "cell_type": "code",
   "execution_count": 28,
   "metadata": {},
   "outputs": [
    {
     "name": "stdout",
     "output_type": "stream",
     "text": [
      "( (SENT (NP (NC Page) (VPpart (VPP accédé) (NP (DET le) (NC 2006-08-07)))) (PONCT .)))\n",
      "\n",
      "[\"'Page'\", \"'accédé'\", \"'le'\", \"'2006-08-07'\", \"'.'\"]\n",
      "5\n",
      "word 1\n",
      "word 2\n",
      "word 3\n",
      "word 4\n",
      "word 5\n"
     ]
    }
   ],
   "source": [
    "import nltk.draw as dr\n",
    "\n",
    "num_sentence = 250\n",
    "print(corpus_test[num_sentence])\n",
    "words = to_words(corpus_test[num_sentence])\n",
    "print(words)\n",
    "print(len(words))\n",
    "b,t = P_CKY_u(words,grammar,P)\n",
    "idx_max = 1\n",
    "\n",
    "tree = build_tree_u(words,grammar,b, t, 0,-1,idx_max)\n",
    "tr = Tree.fromstring('( ( SENT'+ tree + '))')\n",
    "# dr.draw_trees(tr)"
   ]
  },
  {
   "cell_type": "code",
   "execution_count": 29,
   "metadata": {},
   "outputs": [
    {
     "data": {
      "image/png": "[encoded data removed]",
      "text/plain": [
       "Tree('', [Tree('SENT', [Tree('NP', [Tree('NC', ['Page']), Tree('VPpart', [Tree('VPP', ['accédé']), Tree('NP', [Tree('DET', ['le']), Tree('NC', ['2006-08-07'])])])]), Tree('PONCT', ['.'])])])"
      ]
     },
     "execution_count": 29,
     "metadata": {},
     "output_type": "execute_result"
    }
   ],
   "source": [
    "Tree.fromstring(corpus_test[num_sentence])"
   ]
  },
  {
   "cell_type": "code",
   "execution_count": 30,
   "metadata": {},
   "outputs": [
    {
     "data": {
      "image/png": "[encoded data removed]",
      "text/plain": [
       "Tree('', [Tree('SENT', [Tree('NP', [Tree('NC', [\"'Page'\"]), Tree('VPpart', [Tree('VPP', [\"'accédé'\"])])]), Tree('SENT', [Tree('NP', [Tree('DET', [\"'le'\"]), Tree('NC', [\"'2006-08-07'\"])]), Tree('PONCT', [\"'.'\"])])])])"
      ]
     },
     "execution_count": 30,
     "metadata": {},
     "output_type": "execute_result"
    }
   ],
   "source": [
    "tr"
   ]
  },
  {
   "cell_type": "code",
   "execution_count": null,
   "metadata": {
    "collapsed": true
   },
   "outputs": [],
   "source": []
  }
 ],
 "metadata": {
  "kernelspec": {
   "display_name": "Python 3",
   "language": "python",
   "name": "python3"
  },
  "language_info": {
   "codemirror_mode": {
    "name": "ipython",
    "version": 3
   },
   "file_extension": ".py",
   "mimetype": "text/x-python",
   "name": "python",
   "nbconvert_exporter": "python",
   "pygments_lexer": "ipython3",
   "version": "3.6.3"
  }
 },
 "nbformat": 4,
 "nbformat_minor": 2
}
